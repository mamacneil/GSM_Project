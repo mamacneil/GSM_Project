{
 "cells": [
  {
   "cell_type": "raw",
   "metadata": {},
   "source": [
    "# Process mcbackend model rund for local use\n",
    "\n",
    "Pulls traces from clickhouse backend, using mcbackend, into netcdf files stored locally"
   ]
  },
  {
   "cell_type": "code",
   "execution_count": 2,
   "metadata": {},
   "outputs": [],
   "source": [
    "import os\n",
    "\n",
    "import arviz as az\n",
    "import matplotlib.pyplot as plt\n",
    "import numpy as np\n",
    "import pandas as pd\n",
    "import pymc as pm\n",
    "import pytensor.tensor as pyt\n",
    "import seaborn as sns\n",
    "import pdb\n",
    "from matplotlib.gridspec import GridSpec\n",
    "import xarray as xr\n",
    "import rdata as rd\n",
    "import mcbackend as mb\n",
    "import clickhouse_driver"
   ]
  },
  {
   "cell_type": "code",
   "execution_count": 3,
   "metadata": {},
   "outputs": [],
   "source": [
    "# Set figure style.\n",
    "az.style.use(\"arviz-darkgrid\")\n",
    "bd = os.getcwd() + \"/../Data/\"\n",
    "bf = os.getcwd() + \"/../Figures/\""
   ]
  },
  {
   "cell_type": "markdown",
   "metadata": {
    "scrolled": false
   },
   "source": [
    "# Import inference object"
   ]
  },
  {
   "cell_type": "code",
   "execution_count": 4,
   "metadata": {},
   "outputs": [
    {
     "data": {
      "text/html": [
       "<div>\n",
       "<style scoped>\n",
       "    .dataframe tbody tr th:only-of-type {\n",
       "        vertical-align: middle;\n",
       "    }\n",
       "\n",
       "    .dataframe tbody tr th {\n",
       "        vertical-align: top;\n",
       "    }\n",
       "\n",
       "    .dataframe thead th {\n",
       "        text-align: right;\n",
       "    }\n",
       "</style>\n",
       "<table border=\"1\" class=\"dataframe\">\n",
       "  <thead>\n",
       "    <tr style=\"text-align: right;\">\n",
       "      <th></th>\n",
       "      <th>created_at</th>\n",
       "      <th>proto</th>\n",
       "    </tr>\n",
       "    <tr>\n",
       "      <th>rid</th>\n",
       "      <th></th>\n",
       "      <th></th>\n",
       "    </tr>\n",
       "  </thead>\n",
       "  <tbody>\n",
       "    <tr>\n",
       "      <th>C341T</th>\n",
       "      <td>2024-06-28 21:52:42.099999+00:00</td>\n",
       "      <td>RunMeta(rid='C341T', variables=[Variable(name=...</td>\n",
       "    </tr>\n",
       "  </tbody>\n",
       "</table>\n",
       "</div>"
      ],
      "text/plain": [
       "                            created_at  \\\n",
       "rid                                      \n",
       "C341T 2024-06-28 21:52:42.099999+00:00   \n",
       "\n",
       "                                                   proto  \n",
       "rid                                                       \n",
       "C341T  RunMeta(rid='C341T', variables=[Variable(name=...  "
      ]
     },
     "execution_count": 4,
     "metadata": {},
     "output_type": "execute_result"
    }
   ],
   "source": [
    "# Initalize backend\n",
    "#ch_client = clickhouse_driver.Client(host=\"129.173.118.118\", password='buKcek-qetsyj-pynci7', database='gsmtdb')\n",
    "ch_client = clickhouse_driver.Client(host=\"129.173.118.118\", password='buKcek-qetsyj-pynci7', database='gsmtdb', send_receive_timeout = 7200, settings={'max_execution_time': 7200})\n",
    "# Backend object\n",
    "ch_backend = mb.ClickHouseBackend(ch_client)\n",
    "# List backend runs available\n",
    "ch_backend.get_runs()"
   ]
  },
  {
   "cell_type": "code",
   "execution_count": 5,
   "metadata": {},
   "outputs": [],
   "source": [
    "# Fetch the run from the database (downloads just metadata)\n",
    "model_run = ch_backend.get_run('C341T')"
   ]
  },
  {
   "cell_type": "code",
   "execution_count": null,
   "metadata": {},
   "outputs": [],
   "source": [
    "# Import MultiTrace objects from server\n",
    "idata_landings_a = model_run.to_inferencedata(var_names=['Latent_landings','CountrySPP_landings','CountrySPP_Taxonlandings','latent_logOdds_landings'])"
   ]
  },
  {
   "cell_type": "code",
   "execution_count": null,
   "metadata": {},
   "outputs": [],
   "source": [
    "# Export results\n",
    "idata_landings_a.to_netcdf(\"idata-landings-model_AUGM_Perth_server.nc\")"
   ]
  },
  {
   "cell_type": "code",
   "execution_count": null,
   "metadata": {},
   "outputs": [],
   "source": []
  },
  {
   "cell_type": "code",
   "execution_count": null,
   "metadata": {},
   "outputs": [],
   "source": []
  },
  {
   "cell_type": "code",
   "execution_count": null,
   "metadata": {},
   "outputs": [],
   "source": []
  },
  {
   "cell_type": "code",
   "execution_count": null,
   "metadata": {},
   "outputs": [],
   "source": []
  }
 ],
 "metadata": {
  "kernelspec": {
   "display_name": "Python 3 (ipykernel)",
   "language": "python",
   "name": "python3"
  },
  "language_info": {
   "codemirror_mode": {
    "name": "ipython",
    "version": 3
   },
   "file_extension": ".py",
   "mimetype": "text/x-python",
   "name": "python",
   "nbconvert_exporter": "python",
   "pygments_lexer": "ipython3",
   "version": "3.11.6"
  }
 },
 "nbformat": 4,
 "nbformat_minor": 4
}
