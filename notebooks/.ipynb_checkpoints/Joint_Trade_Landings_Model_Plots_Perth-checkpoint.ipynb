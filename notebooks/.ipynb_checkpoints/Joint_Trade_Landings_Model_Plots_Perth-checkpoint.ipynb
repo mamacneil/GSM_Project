{
 "cells": [
  {
   "cell_type": "markdown",
   "metadata": {},
   "source": [
    "# Model plots for shark and ray meat landings and trade applied to 2014-2019 data"
   ]
  },
  {
   "cell_type": "code",
   "execution_count": 1,
   "metadata": {},
   "outputs": [],
   "source": [
    "import os\n",
    "\n",
    "import arviz as az\n",
    "import matplotlib.pyplot as plt\n",
    "import numpy as np\n",
    "import pandas as pd\n",
    "import pymc as pm\n",
    "import pytensor.tensor as pyt\n",
    "import seaborn as sns\n",
    "import pdb\n",
    "from matplotlib.gridspec import GridSpec\n",
    "import xarray as xr\n",
    "import xarray_einstats\n",
    "import rdata as rd\n",
    "import networkx as nx\n",
    "from mpl_toolkits.basemap import Basemap\n",
    "import geopandas as gpd\n",
    "\n",
    "from matplotlib.path import Path\n",
    "import matplotlib.patches as patches"
   ]
  },
  {
   "cell_type": "code",
   "execution_count": null,
   "metadata": {},
   "outputs": [],
   "source": []
  },
  {
   "cell_type": "code",
   "execution_count": 2,
   "metadata": {},
   "outputs": [],
   "source": [
    "# Set figure style.\n",
    "az.style.use(\"arviz-darkgrid\")\n",
    "bd = os.getcwd() + \"/../Data/\"\n",
    "bf = os.getcwd() + \"/../Figures/\""
   ]
  },
  {
   "cell_type": "code",
   "execution_count": 3,
   "metadata": {},
   "outputs": [],
   "source": [
    "# Helper functions\n",
    "def indexall(L):\n",
    "    poo = []\n",
    "    for p in L:\n",
    "        if not p in poo:\n",
    "            poo.append(p)\n",
    "    Ix = np.array([poo.index(p) for p in L])\n",
    "    return poo, Ix\n",
    "\n",
    "\n",
    "# Helper functions\n",
    "match = lambda a, b: np.array([b.index(x) if x in b else None for x in a])\n",
    "\n",
    "\n",
    "def unique(series: pd.Series):\n",
    "    \"Helper function to sort and isolate unique values of a Pandas Series\"\n",
    "    return series.sort_values().unique()\n",
    "\n",
    "\n",
    "def pairplot_divergence(trace, basevar, targetvar, ax=None, divergence=True, color='C3', divergence_color='C2'):\n",
    "    #theta = trace.get_values(varname=basevar, combine=True)[:, 0]\n",
    "    theta = trace.posterior[basevar].values.flatten()\n",
    "    logtau = trace.posterior[targetvar].values.flatten()\n",
    "    if not ax:\n",
    "        _, ax = plt.subplots(1, 1, figsize=(10, 5))\n",
    "    ax.plot(theta, logtau, 'o', color=color, alpha=.5)\n",
    "    if divergence:\n",
    "        divergent = trace.sample_stats.diverging.values.flatten()\n",
    "        ax.plot(theta[divergent], logtau[divergent], 'o', color=divergence_color)\n",
    "    ax.set_xlabel(basevar)\n",
    "    ax.set_ylabel(targetvar)\n",
    "    ax.set_title('scatter plot between log('+targetvar+') and '+basevar);\n",
    "    return ax\n",
    "\n",
    "# A small wrapper function for displaying the MCMC sampler diagnostics as above\n",
    "def report_trace(trace,basevar,targetvar,logscale=False):\n",
    "    # plot the trace of log(tau)\n",
    "    pm.plot_trace({targetvar: trace.posterior[targetvar].values.flatten()});\n",
    "\n",
    "    # plot the estimate for the mean of log(τ) cumulating mean\n",
    "    if logscale:\n",
    "        logtau = np.log(trace.posterior[targetvar].values.flatten())\n",
    "    else:\n",
    "        logtau = trace.posterior[targetvar].values.flatten()\n",
    "    mlogtau = [np.mean(logtau[:i]) for i in np.arange(1, len(logtau))]\n",
    "    plt.figure(figsize=(15, 4))\n",
    "    #plt.axhline(0.7657852, lw=2.5, color='gray')\n",
    "    plt.plot(mlogtau, lw=2.5)\n",
    "    plt.ylim(0, 2)\n",
    "    plt.xlabel('Iteration')\n",
    "    plt.ylabel('MCMC mean of log('+targetvar+')')\n",
    "    plt.title('MCMC estimation of log('+targetvar+')')\n",
    "    plt.show()\n",
    "\n",
    "    # display the total number and percentage of divergent\n",
    "    divergent = trace.sample_stats.diverging.values.flatten()\n",
    "    print('Number of Divergent %d' % divergent.nonzero()[0].size)\n",
    "    divperc = divergent.nonzero()[0].size / len(trace) * 100\n",
    "    print('Percentage of Divergent %.1f' % divperc)\n",
    "\n",
    "    # scatter plot between log(tau) and theta[0]\n",
    "    # for the identifcation of the problematic neighborhoods in parameter space\n",
    "    pairplot_divergence(trace,basevar,targetvar);"
   ]
  },
  {
   "cell_type": "markdown",
   "metadata": {},
   "source": [
    "## Load data"
   ]
  },
  {
   "cell_type": "code",
   "execution_count": 4,
   "metadata": {},
   "outputs": [
    {
     "ename": "FileNotFoundError",
     "evalue": "[Errno 2] No such file or directory: 'Joint_Trade_Landings_Data_Lonsdale.py'",
     "output_type": "error",
     "traceback": [
      "\u001b[0;31m---------------------------------------------------------------------------\u001b[0m",
      "\u001b[0;31mFileNotFoundError\u001b[0m                         Traceback (most recent call last)",
      "Cell \u001b[0;32mIn[4], line 2\u001b[0m\n\u001b[1;32m      1\u001b[0m \u001b[38;5;66;03m# Load data\u001b[39;00m\n\u001b[0;32m----> 2\u001b[0m exec(\u001b[38;5;28;43mopen\u001b[39;49m\u001b[43m(\u001b[49m\u001b[38;5;124;43m\"\u001b[39;49m\u001b[38;5;124;43mJoint_Trade_Landings_Data_Lonsdale.py\u001b[39;49m\u001b[38;5;124;43m\"\u001b[39;49m\u001b[43m)\u001b[49m\u001b[38;5;241m.\u001b[39mread())\n",
      "File \u001b[0;32m~/miniforge3/envs/gsm-project/lib/python3.11/site-packages/IPython/core/interactiveshell.py:310\u001b[0m, in \u001b[0;36m_modified_open\u001b[0;34m(file, *args, **kwargs)\u001b[0m\n\u001b[1;32m    303\u001b[0m \u001b[38;5;28;01mif\u001b[39;00m file \u001b[38;5;129;01min\u001b[39;00m {\u001b[38;5;241m0\u001b[39m, \u001b[38;5;241m1\u001b[39m, \u001b[38;5;241m2\u001b[39m}:\n\u001b[1;32m    304\u001b[0m     \u001b[38;5;28;01mraise\u001b[39;00m \u001b[38;5;167;01mValueError\u001b[39;00m(\n\u001b[1;32m    305\u001b[0m         \u001b[38;5;124mf\u001b[39m\u001b[38;5;124m\"\u001b[39m\u001b[38;5;124mIPython won\u001b[39m\u001b[38;5;124m'\u001b[39m\u001b[38;5;124mt let you open fd=\u001b[39m\u001b[38;5;132;01m{\u001b[39;00mfile\u001b[38;5;132;01m}\u001b[39;00m\u001b[38;5;124m by default \u001b[39m\u001b[38;5;124m\"\u001b[39m\n\u001b[1;32m    306\u001b[0m         \u001b[38;5;124m\"\u001b[39m\u001b[38;5;124mas it is likely to crash IPython. If you know what you are doing, \u001b[39m\u001b[38;5;124m\"\u001b[39m\n\u001b[1;32m    307\u001b[0m         \u001b[38;5;124m\"\u001b[39m\u001b[38;5;124myou can use builtins\u001b[39m\u001b[38;5;124m'\u001b[39m\u001b[38;5;124m open.\u001b[39m\u001b[38;5;124m\"\u001b[39m\n\u001b[1;32m    308\u001b[0m     )\n\u001b[0;32m--> 310\u001b[0m \u001b[38;5;28;01mreturn\u001b[39;00m \u001b[43mio_open\u001b[49m\u001b[43m(\u001b[49m\u001b[43mfile\u001b[49m\u001b[43m,\u001b[49m\u001b[43m \u001b[49m\u001b[38;5;241;43m*\u001b[39;49m\u001b[43margs\u001b[49m\u001b[43m,\u001b[49m\u001b[43m \u001b[49m\u001b[38;5;241;43m*\u001b[39;49m\u001b[38;5;241;43m*\u001b[39;49m\u001b[43mkwargs\u001b[49m\u001b[43m)\u001b[49m\n",
      "\u001b[0;31mFileNotFoundError\u001b[0m: [Errno 2] No such file or directory: 'Joint_Trade_Landings_Data_Lonsdale.py'"
     ]
    }
   ],
   "source": [
    "# Load data\n",
    "exec(open(\"Joint_Trade_Landings_Data_Perth.py\").read())"
   ]
  },
  {
   "cell_type": "code",
   "execution_count": null,
   "metadata": {},
   "outputs": [],
   "source": []
  },
  {
   "cell_type": "markdown",
   "metadata": {
    "scrolled": false
   },
   "source": [
    "# Import landings inference object"
   ]
  },
  {
   "cell_type": "code",
   "execution_count": null,
   "metadata": {},
   "outputs": [],
   "source": [
    "# Import MultiTrace objects\n",
    "idata_landings_x = az.from_netcdf(\"idata-landings-model_Lonsdale.nc\")\n",
    "idata_trade_x = az.from_netcdf(\"idata-trade-model_Lonsdale.nc\")"
   ]
  },
  {
   "cell_type": "code",
   "execution_count": null,
   "metadata": {},
   "outputs": [],
   "source": [
    "# ArviZ doesn't handle MultiIndex yet\n",
    "# Making it aware of the real data labeling at the obs level\n",
    "more_coords = {\n",
    "    \"Exporter\": (\"exporter\", biggest_countries_long),\n",
    "    \"Importer\": (\"importer\", biggest_countries_long)\n",
    "}\n",
    "\n",
    "# Update landings coords\n",
    "idata_landings_x.prior = idata_landings_x.prior.assign_coords(more_coords)\n",
    "idata_landings_x.prior_predictive = idata_landings_x.prior_predictive.assign_coords(more_coords)\n",
    "idata_landings_x.posterior = idata_landings_x.posterior.assign_coords(more_coords)\n",
    "idata_landings_x.posterior_predictive = idata_landings_x.posterior_predictive.assign_coords(\n",
    "    more_coords\n",
    ")\n",
    "idata_landings_x.observed_data = idata_landings_x.observed_data.assign_coords(more_coords)\n",
    "idata_landings_x.constant_data = idata_landings_x.constant_data.assign_coords(more_coords)\n",
    "\n",
    "# Update trade coords\n",
    "idata_trade_x.prior = idata_trade_x.prior.assign_coords(more_coords)\n",
    "idata_trade_x.prior_predictive = idata_trade_x.prior_predictive.assign_coords(more_coords)\n",
    "idata_trade_x.posterior = idata_trade_x.posterior.assign_coords(more_coords)\n",
    "idata_trade_x.posterior_predictive = idata_trade_x.posterior_predictive.assign_coords(\n",
    "    more_coords\n",
    ")\n",
    "idata_trade_x.observed_data = idata_trade_x.observed_data.assign_coords(more_coords)\n",
    "idata_trade_x.constant_data = idata_trade_x.constant_data.assign_coords(more_coords)\n",
    "\n",
    "#\"\"\""
   ]
  },
  {
   "cell_type": "code",
   "execution_count": null,
   "metadata": {},
   "outputs": [],
   "source": [
    "#\"\"\"\n",
    "mu_pp = idata_landings_x.posterior_predictive[\"obs_spp\"]\n",
    "_, ax = plt.subplots()\n",
    "ax.scatter(idata_landings_x.observed_data[\"obs_spp\"], mu_pp.mean((\"chain\", \"draw\")))\n",
    "az.plot_hdi(idata_landings_x.observed_data[\"obs_spp\"], mu_pp)\n",
    "ax.plot((0,12.5),(0,12.5),linestyle=\":\")\n",
    "ax.set_xlabel(\"Observed\")\n",
    "ax.set_ylabel(\"Expected\")\n",
    "ax.set_title(\"Observed vs Expected log Species landings\")\n",
    "plt.savefig(bf+'/Diagnostics/'+'Observed_vs_Expected_log_landings.jpg',dpi=300);\n",
    "#\"\"\""
   ]
  },
  {
   "cell_type": "code",
   "execution_count": null,
   "metadata": {},
   "outputs": [],
   "source": [
    "#\"\"\"\n",
    "mu_pp = idata_landings_x.posterior_predictive[\"obs_taxon\"]\n",
    "_, ax = plt.subplots()\n",
    "ax.scatter(idata_landings_x.observed_data[\"obs_taxon\"], mu_pp.mean((\"chain\", \"draw\")))\n",
    "az.plot_hdi(idata_landings_x.observed_data[\"obs_taxon\"], mu_pp)\n",
    "ax.plot((0,12.5),(0,12.5),linestyle=\":\")\n",
    "ax.set_xlabel(\"Observed\")\n",
    "ax.set_ylabel(\"Expected\")\n",
    "ax.set_title(\"Observed vs Expected log Taxon landings\")\n",
    "plt.savefig(bf+'/Diagnostics/'+'Observed_vs_Expected_log_landings.jpg',dpi=300);\n",
    "#\"\"\""
   ]
  },
  {
   "cell_type": "code",
   "execution_count": null,
   "metadata": {},
   "outputs": [],
   "source": [
    "#\"\"\"\n",
    "mu_pp = idata_trade_x.posterior_predictive[\"log_shark_trade\"]\n",
    "_, ax = plt.subplots()\n",
    "ax.scatter(idata_trade_x.observed_data[\"log_shark_trade\"], mu_pp.mean((\"chain\", \"draw\")))\n",
    "az.plot_hdi(idata_trade_x.observed_data[\"log_shark_trade\"], mu_pp)\n",
    "ax.plot((0,12.5),(0,12.5),linestyle=\":\")\n",
    "ax.set_xlabel(\"Observed\")\n",
    "ax.set_ylabel(\"Expected\")\n",
    "ax.set_title(\"Observed vs Expected log Shark Trade\")\n",
    "plt.savefig(bf+'/Diagnostics/'+'Observed_vs_Expected_log_shark_trade.jpg',dpi=300);\n",
    "#\"\"\""
   ]
  },
  {
   "cell_type": "code",
   "execution_count": null,
   "metadata": {},
   "outputs": [],
   "source": [
    "#\"\"\"\n",
    "mu_pp = idata_trade_x.posterior_predictive[\"log_ray_trade\"]\n",
    "_, ax = plt.subplots()\n",
    "ax.scatter(idata_trade_x.observed_data[\"log_ray_trade\"], mu_pp.mean((\"chain\", \"draw\")))\n",
    "az.plot_hdi(idata_trade_x.observed_data[\"log_ray_trade\"], mu_pp)\n",
    "ax.plot((0,12.5),(0,12.5),linestyle=\":\")\n",
    "ax.set_xlabel(\"Observed\")\n",
    "ax.set_ylabel(\"Expected\")\n",
    "ax.set_title(\"Observed vs Expected log Ray Trade\")\n",
    "plt.savefig(bf+'/Diagnostics/'+'Observed_vs_Expected_log_ray_trade.jpg',dpi=300);\n",
    "#\"\"\""
   ]
  },
  {
   "cell_type": "markdown",
   "metadata": {},
   "source": [
    "# Global summaries"
   ]
  },
  {
   "cell_type": "markdown",
   "metadata": {},
   "source": [
    "## Observed bits for plotting\n"
   ]
  },
  {
   "cell_type": "code",
   "execution_count": null,
   "metadata": {},
   "outputs": [],
   "source": [
    "# Grab species level estimates for observed data\n",
    "Obs_spp_data = np.exp(sdata.drop(columns=['year','year_spp_id','country_spp_id','species_spp_id']\n",
    "          ).groupby(['country','species']).mean()).rename(columns={\"logReported_species_landings\": \"Reported_landings\"})\n",
    "\n",
    "# Create xarray data of totals by species\n",
    "Obs_spp_sums = xr.Dataset(Obs_spp_data.groupby(level='species').sum().sort_values(by='Reported_landings', ascending=False))\n",
    "\n",
    "# Grab taxon level estimates for observed data\n",
    "Obs_tax_data = np.exp(txdata.drop(columns=['year','year_tax_id','country_tax_id','taxon_tax_id']\n",
    "          ).groupby(['country','taxon']).mean()).rename(columns={\"logReported_taxon_landings\": \"Reported_landings\"})\n",
    "\n",
    "# Net estimated unreported species-level landings\n",
    "Net_spp_landings = idata_landings_x.posterior['Latent_landings']-idata_landings_x.posterior['CountrySPP_landings']"
   ]
  },
  {
   "cell_type": "code",
   "execution_count": null,
   "metadata": {},
   "outputs": [],
   "source": [
    "# Look at top 10 reported landings by species\n",
    "Obs_spp_data.groupby(level='species').sum().sort_values(by='Reported_landings', ascending=False).head(10)"
   ]
  },
  {
   "cell_type": "markdown",
   "metadata": {},
   "source": [
    "## Plot top reported and unreported species"
   ]
  },
  {
   "cell_type": "code",
   "execution_count": null,
   "metadata": {},
   "outputs": [],
   "source": [
    "# = = = = = Set up plot\n",
    "_, ax = plt.subplots(1,2,figsize=(10, 10))\n",
    "\n",
    "# Select top 10% of landed species\n",
    "tmp = idata_landings_x.posterior['CountrySPP_landings'].sum(('exporter')).median(('chain','draw'))\n",
    "tmp = tmp.sortby(tmp, ascending=False)\n",
    "sppx_landed = tmp[tmp>np.quantile(tmp,0.90)].species\n",
    "\n",
    "# Select top 10% of unreported species\n",
    "tmp = Net_spp_landings.sum(('exporter')).median(('chain','draw'))\n",
    "tmp = tmp.sortby(tmp, ascending=False)\n",
    "sppx_unrep = tmp[tmp>np.quantile(tmp,0.90)].species\n",
    "\n",
    "# = = = = = Plot reported species landings\n",
    "az.plot_forest(idata_landings_x.posterior['CountrySPP_landings'].sum(('exporter')).sel(species=sppx_landed).rename(''),\n",
    "                    hdi_prob=0.9,\n",
    "                    #transform=np.exp,\n",
    "                    #figsize=(10, 20)\n",
    "               ax=ax[0]\n",
    "                   )\n",
    "ax[0].set(\n",
    "    title=\"Top reported landings\",\n",
    "    xlabel=\"tonnes\",\n",
    "    ylabel=\"\",\n",
    ");\n",
    "#ax[0].set_xlim(0,200000)\n",
    "for tick in ax[0].get_xticklabels():\n",
    "    tick.set_rotation(45)\n",
    "\n",
    "# = = = = = Plot unreported species landings\n",
    "az.plot_forest(Net_spp_landings.sum(('exporter')).sel(species=sppx_unrep).rename(''),\n",
    "                    #transform=np.exp,\n",
    "                    #figsize=(10, 20)\n",
    "                    hdi_prob=0.9,\n",
    "                   ax=ax[1]\n",
    "                   )\n",
    "ax[1].set(\n",
    "    title=\"Top unreported landings\",\n",
    "    xlabel=\"tonnes\",\n",
    "    ylabel=\"\",\n",
    ")\n",
    "#ax[1].set_xlim(0,120000)\n",
    "for tick in ax[1].get_xticklabels():\n",
    "    tick.set_rotation(45)\n",
    "\n",
    "plt.savefig(bf+'/Global/'+'Reported_Unreported_species.jpg',dpi=300);"
   ]
  },
  {
   "cell_type": "markdown",
   "metadata": {},
   "source": [
    "## Plot top taxa traded"
   ]
  },
  {
   "cell_type": "code",
   "execution_count": null,
   "metadata": {},
   "outputs": [],
   "source": [
    "# Plot top taxa traded\n",
    "# = = = = = Plot latent species landings\n",
    "tax_landed = np.exp(idata_landings_x.posterior['CountryTaxon_log_landings']).sum(('exporter')).rename('')\n",
    "tax_landed = tax_landed.sortby(tax_landed.mean(('chain','draw')), ascending=False)\n",
    "ax = az.plot_forest(\n",
    "        tax_landed,\n",
    "        hdi_prob=0.9,\n",
    "        )\n",
    "ax[0].set(\n",
    "    title=\"Top latent landings by taxon\",\n",
    "    xlabel=\"tonnes\",\n",
    "    ylabel=\"\",\n",
    ");\n",
    "#ax[0].set_xlim(0,.5)\n",
    "for tick in ax[0].get_xticklabels():\n",
    "    tick.set_rotation(45)\n",
    "plt.savefig(bf+'/Global/'+'Taxon_landings.jpg',dpi=300);"
   ]
  },
  {
   "cell_type": "code",
   "execution_count": null,
   "metadata": {},
   "outputs": [],
   "source": [
    "# Plot top unreported species traded in each taxon aggregation\n",
    "for taxax in tax_landed.taxon.to_numpy()[:5]:\n",
    "    # Select top 10% of landedspecies\n",
    "    tmp = idata_landings_x.posterior['CountryTaxon_SPP_landings'].sum(('exporter')).sel(taxon=taxax).median(('chain','draw'))\n",
    "    tmp = tmp.sortby(tmp, ascending=False)\n",
    "    tmp = tmp[tmp>0.1]\n",
    "    sppx_landed = tmp[tmp>np.quantile(tmp,0.90)].species\n",
    "    \n",
    "    # = = = = = Plot latent species landings\n",
    "    plt_tmp = idata_landings_x.posterior['CountryTaxon_SPP_landings'].sum(('exporter')).sel(taxon=taxax,species=sppx_landed).rename('')\n",
    "    ax = az.plot_forest(\n",
    "        #tmp/tmp.median(('chain','draw')).sum(),\n",
    "        plt_tmp,\n",
    "        hdi_prob=0.9,\n",
    "        #transform=np.log1p,\n",
    "        #figsize=(10, 20)\n",
    "   \n",
    "       )\n",
    "    \n",
    "    ax[0].set(\n",
    "        title='Top unreported '+taxax+' landings',\n",
    "        xlabel=\"tonnes\",\n",
    "        ylabel=\"\",\n",
    "    );\n",
    "    #ax[0].set_xlim(0,.5)\n",
    "    for tick in ax[0].get_xticklabels():\n",
    "        tick.set_rotation(45)\n",
    "    plt.savefig(bf+'/Global/'+'Top_unreported_'+taxax+'_landings.jpg',dpi=300);"
   ]
  },
  {
   "cell_type": "markdown",
   "metadata": {},
   "source": [
    "## Plot top species in trade"
   ]
  },
  {
   "cell_type": "code",
   "execution_count": null,
   "metadata": {},
   "outputs": [],
   "source": [
    "# Traded \n",
    "trade_spp = (\n",
    "    idata_trade_x.copy().posterior['amount_exported']\n",
    "    .rename('')\n",
    "    .assign_coords({\"Exporter\": (\"exporter\", biggest_countries_long),\"Importer\": (\"importer\", biggest_countries_long)})\n",
    ")\n",
    "# Domestic consumption\n",
    "domestic_spp = trade_spp*0\n",
    "\n",
    "for c in country_:\n",
    "    # Add domestic consumption to domestic xarray\n",
    "    domestic_spp.loc[dict(exporter=c,importer=c)] = trade_spp.sel(exporter=c,importer=c)\n",
    "    # Remove domestic consumption from trade xarray\n",
    "    trade_spp.loc[dict(exporter=c,importer=c)] = 0"
   ]
  },
  {
   "cell_type": "code",
   "execution_count": null,
   "metadata": {},
   "outputs": [],
   "source": [
    "# = = = = = Set up plot\n",
    "_, ax = plt.subplots(1,2,figsize=(10, 10))\n",
    "\n",
    "# Plot top N species traded\n",
    "N = 20\n",
    "# = = = = = Plot latent species landings\n",
    "spp_traded = trade_spp.sum(('exporter','importer')).rename('')\n",
    "spp_traded = spp_traded.sortby(spp_traded.median(('chain','draw')), ascending=False)\n",
    "sppx_trad = spp_traded.species[:N]\n",
    "\n",
    "az.plot_forest(\n",
    "        spp_traded.sel(species=sppx_trad),\n",
    "        hdi_prob=0.9,\n",
    "        ax=ax[0]\n",
    "        )\n",
    "ax[0].set(\n",
    "    title=\"Top \"+str(N)+\" species in trade\",\n",
    "    xlabel=\"tonnes\",\n",
    "    ylabel=\"\",\n",
    ");\n",
    "\n",
    "for tick in ax[0].get_xticklabels():\n",
    "    tick.set_rotation(45)\n",
    "\n",
    "\n",
    "# = = = = = Plot latent species landings\n",
    "spp_dom = domestic_spp.sum(('exporter','importer')).rename('')\n",
    "spp_dom = spp_dom.sortby(spp_dom.median(('chain','draw')), ascending=False)\n",
    "sppx_dom = spp_dom.species[:N]\n",
    "\n",
    "az.plot_forest(\n",
    "        spp_dom.sel(species=sppx_dom),\n",
    "        hdi_prob=0.9,\n",
    "        ax=ax[1]\n",
    "        )\n",
    "ax[1].set(\n",
    "    title=\"Top \"+str(N)+\" domestic spp\",\n",
    "    xlabel=\"tonnes\",\n",
    "    ylabel=\"\",\n",
    ");\n",
    "for tick in ax[1].get_xticklabels():\n",
    "    tick.set_rotation(45)\n",
    "\n",
    "plt.savefig(bf+'/Global/'+'Top_marketed_spp.jpg',dpi=300);"
   ]
  },
  {
   "cell_type": "code",
   "execution_count": null,
   "metadata": {},
   "outputs": [],
   "source": [
    "# Calculate proportion of catch exported\n",
    "dom = domestic_spp.sum(('species','importer'))\n",
    "tot = domestic_spp.sum(('species','importer'))+trade_spp.sum(('species','importer'))\n",
    "prop_ex = 1-(dom/tot)\n",
    "prop_ex = prop_ex.sortby(prop_ex.median(('chain','draw')))"
   ]
  },
  {
   "cell_type": "code",
   "execution_count": null,
   "metadata": {},
   "outputs": [],
   "source": [
    "# Plot proportion of trade exported\n",
    "ax = az.plot_forest(\n",
    "        prop_ex,\n",
    "        hdi_prob=0.9,\n",
    "        combined=True,\n",
    "        figsize=(8, 12)\n",
    "        )\n",
    "ax[0].set(\n",
    "    title=\"Export/landings ratio\",\n",
    "    xlabel=\"Proportion exports\",\n",
    "    ylabel=\"\",\n",
    ");\n",
    "for tick in ax[0].get_xticklabels():\n",
    "    tick.set_rotation(45)\n",
    "ax[0].set_yticklabels(prop_ex.Exporter.to_numpy()[::-1])\n",
    "\n",
    "plt.savefig(bf+'/Global/'+'Proportion_exports.jpg',dpi=300);"
   ]
  },
  {
   "cell_type": "code",
   "execution_count": null,
   "metadata": {},
   "outputs": [],
   "source": []
  },
  {
   "cell_type": "code",
   "execution_count": null,
   "metadata": {},
   "outputs": [],
   "source": []
  },
  {
   "cell_type": "code",
   "execution_count": null,
   "metadata": {},
   "outputs": [],
   "source": []
  },
  {
   "cell_type": "code",
   "execution_count": null,
   "metadata": {},
   "outputs": [],
   "source": []
  },
  {
   "cell_type": "code",
   "execution_count": null,
   "metadata": {},
   "outputs": [],
   "source": []
  },
  {
   "cell_type": "code",
   "execution_count": null,
   "metadata": {},
   "outputs": [],
   "source": []
  },
  {
   "cell_type": "code",
   "execution_count": null,
   "metadata": {},
   "outputs": [],
   "source": []
  },
  {
   "cell_type": "code",
   "execution_count": null,
   "metadata": {},
   "outputs": [],
   "source": []
  },
  {
   "cell_type": "code",
   "execution_count": null,
   "metadata": {},
   "outputs": [],
   "source": []
  },
  {
   "cell_type": "code",
   "execution_count": null,
   "metadata": {},
   "outputs": [],
   "source": []
  },
  {
   "cell_type": "code",
   "execution_count": null,
   "metadata": {},
   "outputs": [],
   "source": []
  },
  {
   "cell_type": "markdown",
   "metadata": {},
   "source": [
    "# National plots"
   ]
  },
  {
   "cell_type": "code",
   "execution_count": null,
   "metadata": {},
   "outputs": [],
   "source": [
    "taxon_colours = {'Alopias':'#6baed6', 'Bathyraja':'#fdae6b', 'Carcharhinidae':'#3182bd', 'Dasyatidae':'#fdd0a2',\n",
    "       'Elasmobranchii':'black', 'Etmopterus':'#636363', 'Isurus':'#9ecae1', 'Lamnidae':'#c6dbef', 'Mobulidae':'#756bb1',\n",
    "       'Mustelus':'#5254a3', 'Myliobatidae':'#a1d99b', 'Potamotrygon':'#b5cf6b', 'Pristidae':'#de9ed6',\n",
    "       'Pristiophorus':'#ce6dbd', 'Rajidae':'#e6550d', 'Rajiformes':'#fd8d3c', 'Rhinobatidae':'#8c6d31',\n",
    "       'Scyliorhinidae':'#843c39', 'Scyliorhinus':'#ad494a', 'Selachimorpha':'#979797', 'Sphyrnidae':'#d9d9d9',\n",
    "       'Squalidae':'#969696', 'Squatinidae':'#bdbdbd'}"
   ]
  },
  {
   "cell_type": "code",
   "execution_count": null,
   "metadata": {
    "scrolled": true
   },
   "outputs": [],
   "source": [
    "# Plot estimated species landings\n",
    "for counx in country_:\n",
    "    couny = biggest_countries_long[list(biggest_countries).index(counx)]\n",
    "    try:\n",
    "        # Select only species estimated to have some landings\n",
    "        tmp = idata_landings_x.posterior['Latent_landings'].mean((\"chain\", \"draw\")).sel(exporter=counx)\n",
    "        tmp = tmp.sortby(tmp, ascending=False)\n",
    "        sppxxx = tmp[tmp>50].species.to_numpy()\n",
    "        \n",
    "        ax = az.plot_forest(idata_landings_x.posterior['Latent_landings'].sel(exporter=counx, species=sppxxx).rename(''),\n",
    "                            #transform=np.log1p,\n",
    "                            #figsize=(12,10)\n",
    "                            combined=True\n",
    "                           )\n",
    "        ax[0].set(\n",
    "            title=\"Average latent species landings \"+couny,\n",
    "            xlabel=\"tonnes\",\n",
    "            ylabel=\"\",\n",
    "        )\n",
    "        #ax[0].set_xlim(0,6000)\n",
    "        plt.tight_layout()\n",
    "        plt.savefig(bf+'/Exporters/'+couny+'_Latent_landings_.jpg',dpi=300)\n",
    "        plt.close()\n",
    "    except ValueError:\n",
    "        pass\n",
    "    except AttributeError:\n",
    "        pass\n",
    "\n",
    "    "
   ]
  },
  {
   "cell_type": "code",
   "execution_count": null,
   "metadata": {},
   "outputs": [],
   "source": [
    "# Plot estimated species landings\n",
    "for counx in country_:\n",
    "    couny = biggest_countries_long[list(biggest_countries).index(counx)]\n",
    "    try:\n",
    "        # Select only species estimated to have some landings\n",
    "        tmp = idata_landings_x.posterior['Latent_landings'].median((\"chain\", \"draw\")).sel(exporter=counx)\n",
    "        tmp = tmp.sortby(tmp, ascending=False)\n",
    "        sppxxx = tmp[tmp>10].species.to_numpy()\n",
    "        poo = list(sppxxx)\n",
    "        for s in Obs_spp_data.loc[counx].index.values:\n",
    "            if s not in sppxxx:\n",
    "                poo+=[s]\n",
    "        sppxxx = np.array(poo)\n",
    "        ax = az.plot_forest([idata_landings_x.prior['CountrySPP_landings'].sel(exporter=counx, species=sppxxx),\n",
    "                            idata_landings_x.posterior['CountrySPP_landings'].sel(exporter=counx, species=sppxxx)],\n",
    "                            model_names=[\"Prior\", \"Posterior\"],\n",
    "                            transform=np.log1p,\n",
    "                            figsize=(10, 10)\n",
    "                           )\n",
    "        \n",
    "        \n",
    "        # Add observed average landings reported to species\n",
    "        rowlist = list(idata_landings_x.posterior['CountrySPP_landings'].sel(exporter=counx, species=sppxxx).mean((\"chain\", \"draw\")).species.to_numpy())\n",
    "        xtmp = Obs_spp_data.loc[counx].reset_index()\n",
    "        ytmp = ax[0].yaxis.get_majorticklocs()[::-1][np.array([rowlist.index(x) if x in rowlist else -1 for x in xtmp.species])]\n",
    "        plt.scatter(np.log(xtmp.Reported_landings),ytmp,c='black',zorder=10)\n",
    "        \n",
    "        ax[0].set(\n",
    "            title=\"Average reported species landings \"+couny,\n",
    "            xlabel=\"log(tonnes)\",\n",
    "            ylabel=\"\",\n",
    "        )\n",
    "        plt.savefig(bf+'/Exporters/'+couny+'_Reported_species_landings.jpg',dpi=300)\n",
    "        plt.close()\n",
    "    except ValueError:\n",
    "        pass\n",
    "    except KeyError:\n",
    "        pass"
   ]
  },
  {
   "cell_type": "code",
   "execution_count": null,
   "metadata": {},
   "outputs": [],
   "source": [
    "# Select only taxa estimated to have some landings\n",
    "for counx in country_:\n",
    "    couny = biggest_countries_long[list(biggest_countries).index(counx)]\n",
    "    try:\n",
    "        taxxx = taxon_shortlist[idata_landings_x.posterior['CountryTaxon_log_landings'].median((\"chain\", \"draw\")).sel(exporter=counx)>2]\n",
    "        \n",
    "        ax = az.plot_forest([idata_landings_x.prior['CountryTaxon_log_landings'].sel(exporter=counx, taxon=taxxx).rename(''),\n",
    "                            idata_landings_x.posterior['CountryTaxon_log_landings'].sel(exporter=counx, taxon=taxxx).rename('')],\n",
    "                            model_names=[\"Prior\", \"Posterior\"]\n",
    "                           )\n",
    "        \n",
    "        # Add observed average landings reported to species\n",
    "        xtmp = np.log(Obs_tax_data.loc[counx].Reported_landings.to_numpy())\n",
    "        obslist = Obs_tax_data.loc[counx].index\n",
    "        rowlist = list(idata_landings_x.posterior['CountryTaxon_log_landings'].mean((\"chain\", \"draw\")).sel(exporter=counx, taxon=taxxx).taxon.to_numpy())\n",
    "        setlist = list(set(rowlist) & set(obslist))\n",
    "        xindx = np.array([list(obslist).index(x) for x in setlist])\n",
    "        ytmp = ax[0].yaxis.get_majorticklocs()[::-1][np.array([rowlist.index(x) for x in setlist])]\n",
    "        plt.scatter(xtmp[xindx],ytmp,c='black',zorder=10)\n",
    "        \n",
    "        ax[0].set(\n",
    "            title=\"Average reported taxon landings \"+biggest_countries_long[list(biggest_countries).index(counx)],\n",
    "            xlabel=\"log(tonnes)\",\n",
    "            ylabel=\"\",\n",
    "        )\n",
    "        plt.savefig(bf+'/Exporters/'+couny+'_Reported_taxon_landings.jpg',dpi=300)\n",
    "        plt.close()\n",
    "    except ValueError:\n",
    "        #pdb.set_trace()\n",
    "        pass\n",
    "    except KeyError:\n",
    "        #pdb.set_trace()\n",
    "        pass"
   ]
  },
  {
   "cell_type": "code",
   "execution_count": null,
   "metadata": {},
   "outputs": [],
   "source": []
  },
  {
   "cell_type": "code",
   "execution_count": null,
   "metadata": {},
   "outputs": [],
   "source": [
    "TaxonMASK_Sx[list(country_).index('IND')].sum(0)[list(taxon_shortlist).index('Elasmobranchii')]"
   ]
  },
  {
   "cell_type": "code",
   "execution_count": null,
   "metadata": {},
   "outputs": [],
   "source": []
  },
  {
   "cell_type": "code",
   "execution_count": null,
   "metadata": {},
   "outputs": [],
   "source": []
  },
  {
   "cell_type": "code",
   "execution_count": null,
   "metadata": {},
   "outputs": [],
   "source": [
    "Obs_tax_data.loc['AGO']"
   ]
  },
  {
   "cell_type": "code",
   "execution_count": null,
   "metadata": {},
   "outputs": [],
   "source": []
  },
  {
   "cell_type": "code",
   "execution_count": null,
   "metadata": {},
   "outputs": [],
   "source": [
    "counx = 'AGO'\n",
    "couny = biggest_countries_long[list(biggest_countries).index(counx)]\n",
    "\n",
    "taxxx = taxon_shortlist[idata_landings_x.posterior['CountryTaxon_log_landings'].median((\"chain\", \"draw\")).sel(exporter=counx)>2]\n",
    "\n",
    "ax = az.plot_forest([idata_landings_x.prior['CountryTaxon_log_landings'].sel(exporter=counx, taxon=taxxx).rename(''),\n",
    "                    idata_landings_x.posterior['CountryTaxon_log_landings'].sel(exporter=counx, taxon=taxxx).rename('')],\n",
    "                    model_names=[\"Prior\", \"Posterior\"]\n",
    "                   )\n",
    "\n",
    "# Add observed average landings reported to species\n",
    "xtmp = np.log(Obs_tax_data.loc[counx].Reported_landings.to_numpy())\n",
    "obslist = Obs_tax_data.loc[counx].index\n",
    "rowlist = list(idata_landings_x.posterior['CountryTaxon_log_landings'].mean((\"chain\", \"draw\")).sel(exporter=counx, taxon=taxxx).taxon.to_numpy())\n",
    "setlist = list(set(rowlist) & set(obslist))\n",
    "xindx = np.array([list(obslist).index(x) for x in setlist])\n",
    "ytmp = ax[0].yaxis.get_majorticklocs()[::-1][np.array([rowlist.index(x) for x in setlist])]\n",
    "plt.scatter(xtmp[xindx],ytmp,c='black',zorder=10)\n",
    "\n",
    "ax[0].set(\n",
    "    title=\"Average reported taxon landings \"+biggest_countries_long[list(biggest_countries).index(counx)],\n",
    "    xlabel=\"log(tonnes)\",\n",
    "    ylabel=\"\",\n",
    ")\n"
   ]
  },
  {
   "cell_type": "code",
   "execution_count": null,
   "metadata": {},
   "outputs": [],
   "source": [
    "taxxx"
   ]
  },
  {
   "cell_type": "code",
   "execution_count": null,
   "metadata": {},
   "outputs": [],
   "source": []
  },
  {
   "cell_type": "code",
   "execution_count": null,
   "metadata": {},
   "outputs": [],
   "source": []
  },
  {
   "cell_type": "code",
   "execution_count": null,
   "metadata": {},
   "outputs": [],
   "source": [
    "# Plot taxon decomposition bar charts\n",
    "for counx in country_:\n",
    "    try:\n",
    "        # Posterior taxon landings by species\n",
    "        cut_tmp = 50\n",
    "        ps_len = 10\n",
    "        \n",
    "        while ps_len>9:\n",
    "            # Increase cutoff by 15% to reduce number of species displayed\n",
    "            cut_tmp = round(cut_tmp*1.15)\n",
    "            PostTaxonSpp = (\n",
    "                    idata_landings_x.posterior[\"CountryTaxon_SPP_landings\"]\n",
    "                    .mean((\"chain\", \"draw\"))\n",
    "                    .assign_coords({\"Exporter\": (\"exporter\", biggest_countries_long)})\n",
    "                    .sel(exporter=counx)\n",
    "                    .drop_vars(['exporter'])\n",
    "                ).to_dataframe()\n",
    "            PostTaxonSpp = PostTaxonSpp[PostTaxonSpp.CountryTaxon_SPP_landings>cut_tmp]\n",
    "            \n",
    "            # Posterior species landings\n",
    "            PostSpp = (\n",
    "                    idata_landings_x.posterior[\"CountrySPP_landings\"]\n",
    "                    .mean((\"chain\", \"draw\"))\n",
    "                    .assign_coords({\"Exporter\": (\"exporter\", biggest_countries_long)})\n",
    "                    .sel(exporter=counx)\n",
    "                    .drop_vars(['exporter'])-1\n",
    "                ).to_dataframe()\n",
    "            PostSpp = PostSpp[PostSpp.CountrySPP_landings>cut_tmp]\n",
    "            ps_len = len(PostSpp)\n",
    "        \n",
    "        # One liner to create a stacked bar chart.\n",
    "        ax = sns.histplot(PostTaxonSpp, x='species', hue='taxon', weights='CountryTaxon_SPP_landings',\n",
    "                     multiple='stack', palette=taxon_colours, shrink=0.8)\n",
    "        ax.set_ylabel('Landings (t)')\n",
    "        ax.set_xticklabels(ax.get_xticklabels(), rotation=90)\n",
    "        ax.set_title(biggest_countries_long[list(country_).index(counx)]+' unreported landings \\n by aggregated taxa')\n",
    "        # Fix the legend so it's not on top of the bars.\n",
    "        legend = ax.get_legend()\n",
    "        legend.set_bbox_to_anchor((1, 1))\n",
    "        plt.savefig(bf+'/Exporters/'+biggest_countries_long[list(country_).index(counx)]+'_unreported_by_taxa.jpg',dpi=300)\n",
    "        plt.close()\n",
    "\n",
    "    except TypeError:\n",
    "        plt.close()\n",
    "        pass\n",
    "    except AttributeError:\n",
    "        plt.close()\n",
    "        pass"
   ]
  },
  {
   "cell_type": "markdown",
   "metadata": {},
   "source": [
    "# Species plots"
   ]
  },
  {
   "cell_type": "code",
   "execution_count": null,
   "metadata": {},
   "outputs": [],
   "source": [
    "# Latent trade by species\n",
    "for sppx in species_:\n",
    "    try:\n",
    "        post_latent_trade = (\n",
    "            idata_trade_x.posterior[\"amount_exported\"]\n",
    "            .mean((\"chain\", \"draw\"))\n",
    "            .assign_coords({\"Exporter\": (\"exporter\", biggest_countries_long),\n",
    "                            \"Importer\": (\"importer\", biggest_countries_long)})\n",
    "            .drop_vars(['exporter','importer'])\n",
    "            .sel(species=sppx)\n",
    "        )\n",
    "\n",
    "        ds_masked = post_latent_trade.where(post_latent_trade!=0)\n",
    "\n",
    "        _, ax = plt.subplots(figsize=(23, 18))\n",
    "        sns.heatmap(\n",
    "            ds_masked.to_dataframe().drop([\"species\"], axis=\"columns\")\n",
    "            .reset_index().drop(['exporter','importer'],axis=1)\n",
    "            .set_index(['Exporter','Importer']).unstack()\n",
    "            .droplevel(0, axis=1)\n",
    "            .T,\n",
    "            ax=ax,\n",
    "            cmap=sns.color_palette(\"Blues\", as_cmap=True),\n",
    "        )\n",
    "        ax.hlines(range(ncou),xmin=0,xmax=ncou,color='grey',alpha=0.1)\n",
    "        ax.vlines(range(ncou),ymin=0,ymax=ncou,color='grey',alpha=0.1)\n",
    "\n",
    "        ax.set_title(\"Average latent trade\\n\"+sppx, fontsize=30)\n",
    "        ax.set_xlabel(\"Exporter\", fontsize=30)\n",
    "        ax.set_ylabel(\"Importer\", fontsize=30)\n",
    "        plt.savefig(bf+'/Species/'+sppx+'_latent_trade.jpg',dpi=300)\n",
    "        plt.close()\n",
    "    except:\n",
    "        plt.close()\n",
    "        pass\n"
   ]
  },
  {
   "cell_type": "code",
   "execution_count": null,
   "metadata": {},
   "outputs": [],
   "source": []
  }
 ],
 "metadata": {
  "kernelspec": {
   "display_name": "Python 3 (ipykernel)",
   "language": "python",
   "name": "python3"
  },
  "language_info": {
   "codemirror_mode": {
    "name": "ipython",
    "version": 3
   },
   "file_extension": ".py",
   "mimetype": "text/x-python",
   "name": "python",
   "nbconvert_exporter": "python",
   "pygments_lexer": "ipython3",
   "version": "3.11.6"
  }
 },
 "nbformat": 4,
 "nbformat_minor": 4
}
